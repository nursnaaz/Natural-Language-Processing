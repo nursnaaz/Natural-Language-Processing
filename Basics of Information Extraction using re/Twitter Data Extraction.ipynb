{
 "cells": [
  {
   "cell_type": "code",
   "execution_count": 1,
   "metadata": {},
   "outputs": [],
   "source": [
    "import tweepy\n",
    "import csv\n",
    "import pandas as pd\n",
    "####input your credentials here\n",
    "consumer_key = 'consumer_key'\n",
    "consumer_secret = 'consumer_secret'\n",
    "access_token = 'access_token'\n",
    "access_token_secret = 'access_token_secret'\n",
    "\n"
   ]
  },
  {
   "cell_type": "code",
   "execution_count": 2,
   "metadata": {},
   "outputs": [],
   "source": [
    "auth = tweepy.OAuthHandler(consumer_key, consumer_secret)\n",
    "auth.set_access_token(access_token, access_token_secret)\n",
    "api = tweepy.API(auth,wait_on_rate_limit=True)\n"
   ]
  },
  {
   "cell_type": "code",
   "execution_count": 3,
   "metadata": {},
   "outputs": [],
   "source": [
    "#####Indian Elections\n",
    "# Open/Create a file to append data\n",
    "csvFile = open('Indian_Elections.csv', 'a')\n",
    "#Use csv Writer\n",
    "csvWriter = csv.writer(csvFile)"
   ]
  },
  {
   "cell_type": "code",
   "execution_count": null,
   "metadata": {},
   "outputs": [],
   "source": [
    "for tweet in tweepy.Cursor(api.search,q=\"#Elections2019\",count=100,\n",
    "                           lang=\"en\",\n",
    "                           since=\"2019-03-01\").items():\n",
    "    print (tweet.created_at, tweet.text)\n",
    "    csvWriter.writerow([tweet.created_at, tweet.text.encode('utf-8')])"
   ]
  },
  {
   "cell_type": "code",
   "execution_count": 271,
   "metadata": {},
   "outputs": [],
   "source": [
    "import pandas as pd\n",
    "import numpy as np\n",
    "import re "
   ]
  },
  {
   "cell_type": "code",
   "execution_count": 300,
   "metadata": {},
   "outputs": [],
   "source": [
    "df = pd.read_csv(\"Indian_Elections.csv\",encoding = 'utf-8')"
   ]
  },
  {
   "cell_type": "code",
   "execution_count": 301,
   "metadata": {},
   "outputs": [
    {
     "data": {
      "text/html": [
       "<div>\n",
       "<style scoped>\n",
       "    .dataframe tbody tr th:only-of-type {\n",
       "        vertical-align: middle;\n",
       "    }\n",
       "\n",
       "    .dataframe tbody tr th {\n",
       "        vertical-align: top;\n",
       "    }\n",
       "\n",
       "    .dataframe thead th {\n",
       "        text-align: right;\n",
       "    }\n",
       "</style>\n",
       "<table border=\"1\" class=\"dataframe\">\n",
       "  <thead>\n",
       "    <tr style=\"text-align: right;\">\n",
       "      <th></th>\n",
       "      <th>2019-03-11 11:12:57</th>\n",
       "      <th>b'RT @arpitajtweets: Just for fun\\xf0\\x9f\\x91\\x8d\\ndont take otherwise\\xf0\\x9f\\x99\\x8f\\n@narendramodi\\n@BJP4India\\n#MondayMotivaton \\n#Elections2019 \\n\\xf0\\x9f\\x98\\x82\\xf0\\x9f\\x98\\x82\\xf0\\x9f\\x98\\x82\\xf0\\x9f\\x98\\x82\\xf0\\x9f\\x98\\x82\\xf0\\x9f\\x91\\x87\\xf0\\x9f\\x91\\x87\\xf0\\x9f\\x91\\x87\\xf0\\x9f\\x91\\x87\\xf0\\x9f\\x98\\x82\\xf0\\x9f\\x98\\x82\\xf0\\x9f\\x98\\x82 https://t.co/\\xe2\\x80\\xa6'</th>\n",
       "    </tr>\n",
       "  </thead>\n",
       "  <tbody>\n",
       "    <tr>\n",
       "      <th>0</th>\n",
       "      <td>2019-03-11 11:12:57</td>\n",
       "      <td>b'RT @arpitajtweets: Just for fun\\xf0\\x9f\\x91\\...</td>\n",
       "    </tr>\n",
       "    <tr>\n",
       "      <th>1</th>\n",
       "      <td>2019-03-11 11:12:51</td>\n",
       "      <td>b'Where is safety,how we safe,this is the situ...</td>\n",
       "    </tr>\n",
       "    <tr>\n",
       "      <th>2</th>\n",
       "      <td>2019-03-11 11:12:44</td>\n",
       "      <td>b\"RT @ManiDevaMS: #DelhiCapitals is not only #...</td>\n",
       "    </tr>\n",
       "    <tr>\n",
       "      <th>3</th>\n",
       "      <td>2019-03-11 11:12:39</td>\n",
       "      <td>b'RT @VinayDokania: How Indian Journalists com...</td>\n",
       "    </tr>\n",
       "    <tr>\n",
       "      <th>4</th>\n",
       "      <td>2019-03-11 11:12:37</td>\n",
       "      <td>b'#Elections2019 Dates are finally out. @Bored...</td>\n",
       "    </tr>\n",
       "  </tbody>\n",
       "</table>\n",
       "</div>"
      ],
      "text/plain": [
       "   2019-03-11 11:12:57  \\\n",
       "0  2019-03-11 11:12:57   \n",
       "1  2019-03-11 11:12:51   \n",
       "2  2019-03-11 11:12:44   \n",
       "3  2019-03-11 11:12:39   \n",
       "4  2019-03-11 11:12:37   \n",
       "\n",
       "  b'RT @arpitajtweets: Just for fun\\xf0\\x9f\\x91\\x8d\\ndont take otherwise\\xf0\\x9f\\x99\\x8f\\n@narendramodi\\n@BJP4India\\n#MondayMotivaton \\n#Elections2019 \\n\\xf0\\x9f\\x98\\x82\\xf0\\x9f\\x98\\x82\\xf0\\x9f\\x98\\x82\\xf0\\x9f\\x98\\x82\\xf0\\x9f\\x98\\x82\\xf0\\x9f\\x91\\x87\\xf0\\x9f\\x91\\x87\\xf0\\x9f\\x91\\x87\\xf0\\x9f\\x91\\x87\\xf0\\x9f\\x98\\x82\\xf0\\x9f\\x98\\x82\\xf0\\x9f\\x98\\x82 https://t.co/\\xe2\\x80\\xa6'  \n",
       "0  b'RT @arpitajtweets: Just for fun\\xf0\\x9f\\x91\\...                                                                                                                                                                                                                                                                                                                                  \n",
       "1  b'Where is safety,how we safe,this is the situ...                                                                                                                                                                                                                                                                                                                                  \n",
       "2  b\"RT @ManiDevaMS: #DelhiCapitals is not only #...                                                                                                                                                                                                                                                                                                                                  \n",
       "3  b'RT @VinayDokania: How Indian Journalists com...                                                                                                                                                                                                                                                                                                                                  \n",
       "4  b'#Elections2019 Dates are finally out. @Bored...                                                                                                                                                                                                                                                                                                                                  "
      ]
     },
     "execution_count": 301,
     "metadata": {},
     "output_type": "execute_result"
    }
   ],
   "source": [
    "df.head()"
   ]
  },
  {
   "cell_type": "code",
   "execution_count": 302,
   "metadata": {},
   "outputs": [],
   "source": [
    "df.columns = [\"Date_time\",\"Tweet\"]"
   ]
  },
  {
   "cell_type": "code",
   "execution_count": 303,
   "metadata": {},
   "outputs": [
    {
     "data": {
      "text/html": [
       "<div>\n",
       "<style scoped>\n",
       "    .dataframe tbody tr th:only-of-type {\n",
       "        vertical-align: middle;\n",
       "    }\n",
       "\n",
       "    .dataframe tbody tr th {\n",
       "        vertical-align: top;\n",
       "    }\n",
       "\n",
       "    .dataframe thead th {\n",
       "        text-align: right;\n",
       "    }\n",
       "</style>\n",
       "<table border=\"1\" class=\"dataframe\">\n",
       "  <thead>\n",
       "    <tr style=\"text-align: right;\">\n",
       "      <th></th>\n",
       "      <th>Date_time</th>\n",
       "      <th>Tweet</th>\n",
       "    </tr>\n",
       "  </thead>\n",
       "  <tbody>\n",
       "    <tr>\n",
       "      <th>0</th>\n",
       "      <td>2019-03-11 11:12:57</td>\n",
       "      <td>b'RT @arpitajtweets: Just for fun\\xf0\\x9f\\x91\\...</td>\n",
       "    </tr>\n",
       "    <tr>\n",
       "      <th>1</th>\n",
       "      <td>2019-03-11 11:12:51</td>\n",
       "      <td>b'Where is safety,how we safe,this is the situ...</td>\n",
       "    </tr>\n",
       "    <tr>\n",
       "      <th>2</th>\n",
       "      <td>2019-03-11 11:12:44</td>\n",
       "      <td>b\"RT @ManiDevaMS: #DelhiCapitals is not only #...</td>\n",
       "    </tr>\n",
       "    <tr>\n",
       "      <th>3</th>\n",
       "      <td>2019-03-11 11:12:39</td>\n",
       "      <td>b'RT @VinayDokania: How Indian Journalists com...</td>\n",
       "    </tr>\n",
       "    <tr>\n",
       "      <th>4</th>\n",
       "      <td>2019-03-11 11:12:37</td>\n",
       "      <td>b'#Elections2019 Dates are finally out. @Bored...</td>\n",
       "    </tr>\n",
       "  </tbody>\n",
       "</table>\n",
       "</div>"
      ],
      "text/plain": [
       "             Date_time                                              Tweet\n",
       "0  2019-03-11 11:12:57  b'RT @arpitajtweets: Just for fun\\xf0\\x9f\\x91\\...\n",
       "1  2019-03-11 11:12:51  b'Where is safety,how we safe,this is the situ...\n",
       "2  2019-03-11 11:12:44  b\"RT @ManiDevaMS: #DelhiCapitals is not only #...\n",
       "3  2019-03-11 11:12:39  b'RT @VinayDokania: How Indian Journalists com...\n",
       "4  2019-03-11 11:12:37  b'#Elections2019 Dates are finally out. @Bored..."
      ]
     },
     "execution_count": 303,
     "metadata": {},
     "output_type": "execute_result"
    }
   ],
   "source": [
    "df.head()"
   ]
  },
  {
   "cell_type": "code",
   "execution_count": 306,
   "metadata": {},
   "outputs": [],
   "source": [
    "df.to_csv(\"Twitter_data.csv\",index = False)"
   ]
  }
 ],
 "metadata": {
  "kernelspec": {
   "display_name": "Python 3",
   "language": "python",
   "name": "python3"
  },
  "language_info": {
   "codemirror_mode": {
    "name": "ipython",
    "version": 3
   },
   "file_extension": ".py",
   "mimetype": "text/x-python",
   "name": "python",
   "nbconvert_exporter": "python",
   "pygments_lexer": "ipython3",
   "version": "3.6.4"
  }
 },
 "nbformat": 4,
 "nbformat_minor": 2
}
